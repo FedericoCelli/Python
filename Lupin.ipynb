{
 "cells": [
  {
   "cell_type": "markdown",
   "metadata": {
    "id": "IBX9tnFXhfXG"
   },
   "source": [
    "# SCRAPING"
   ]
  },
  {
   "cell_type": "code",
   "execution_count": 11,
   "metadata": {
    "colab": {
     "base_uri": "https://localhost:8080/"
    },
    "id": "Bfvqu4lLHy-9",
    "outputId": "1054e508-5506-4bd3-924f-4abd96973803",
    "tags": []
   },
   "outputs": [
    {
     "ename": "ConnectionError",
     "evalue": "HTTPSConnectionPool(host='www.lumberjack.com', port=443): Max retries exceeded with url: /it/shoes?page=1 (Caused by NameResolutionError(\"<urllib3.connection.HTTPSConnection object at 0x000002C400DE3AD0>: Failed to resolve 'www.lumberjack.com' ([Errno 11001] getaddrinfo failed)\"))",
     "output_type": "error",
     "traceback": [
      "\u001b[1;31m---------------------------------------------------------------------------\u001b[0m",
      "\u001b[1;31mgaierror\u001b[0m                                  Traceback (most recent call last)",
      "File \u001b[1;32mC:\\ProgramData\\anaconda3\\Lib\\site-packages\\urllib3\\connection.py:203\u001b[0m, in \u001b[0;36mHTTPConnection._new_conn\u001b[1;34m(self)\u001b[0m\n\u001b[0;32m    202\u001b[0m \u001b[38;5;28;01mtry\u001b[39;00m:\n\u001b[1;32m--> 203\u001b[0m     sock \u001b[38;5;241m=\u001b[39m connection\u001b[38;5;241m.\u001b[39mcreate_connection(\n\u001b[0;32m    204\u001b[0m         (\u001b[38;5;28mself\u001b[39m\u001b[38;5;241m.\u001b[39m_dns_host, \u001b[38;5;28mself\u001b[39m\u001b[38;5;241m.\u001b[39mport),\n\u001b[0;32m    205\u001b[0m         \u001b[38;5;28mself\u001b[39m\u001b[38;5;241m.\u001b[39mtimeout,\n\u001b[0;32m    206\u001b[0m         source_address\u001b[38;5;241m=\u001b[39m\u001b[38;5;28mself\u001b[39m\u001b[38;5;241m.\u001b[39msource_address,\n\u001b[0;32m    207\u001b[0m         socket_options\u001b[38;5;241m=\u001b[39m\u001b[38;5;28mself\u001b[39m\u001b[38;5;241m.\u001b[39msocket_options,\n\u001b[0;32m    208\u001b[0m     )\n\u001b[0;32m    209\u001b[0m \u001b[38;5;28;01mexcept\u001b[39;00m socket\u001b[38;5;241m.\u001b[39mgaierror \u001b[38;5;28;01mas\u001b[39;00m e:\n",
      "File \u001b[1;32mC:\\ProgramData\\anaconda3\\Lib\\site-packages\\urllib3\\util\\connection.py:60\u001b[0m, in \u001b[0;36mcreate_connection\u001b[1;34m(address, timeout, source_address, socket_options)\u001b[0m\n\u001b[0;32m     58\u001b[0m     \u001b[38;5;28;01mraise\u001b[39;00m LocationParseError(\u001b[38;5;124mf\u001b[39m\u001b[38;5;124m\"\u001b[39m\u001b[38;5;124m'\u001b[39m\u001b[38;5;132;01m{\u001b[39;00mhost\u001b[38;5;132;01m}\u001b[39;00m\u001b[38;5;124m'\u001b[39m\u001b[38;5;124m, label empty or too long\u001b[39m\u001b[38;5;124m\"\u001b[39m) \u001b[38;5;28;01mfrom\u001b[39;00m \u001b[38;5;28;01mNone\u001b[39;00m\n\u001b[1;32m---> 60\u001b[0m \u001b[38;5;28;01mfor\u001b[39;00m res \u001b[38;5;129;01min\u001b[39;00m socket\u001b[38;5;241m.\u001b[39mgetaddrinfo(host, port, family, socket\u001b[38;5;241m.\u001b[39mSOCK_STREAM):\n\u001b[0;32m     61\u001b[0m     af, socktype, proto, canonname, sa \u001b[38;5;241m=\u001b[39m res\n",
      "File \u001b[1;32mC:\\ProgramData\\anaconda3\\Lib\\socket.py:962\u001b[0m, in \u001b[0;36mgetaddrinfo\u001b[1;34m(host, port, family, type, proto, flags)\u001b[0m\n\u001b[0;32m    961\u001b[0m addrlist \u001b[38;5;241m=\u001b[39m []\n\u001b[1;32m--> 962\u001b[0m \u001b[38;5;28;01mfor\u001b[39;00m res \u001b[38;5;129;01min\u001b[39;00m _socket\u001b[38;5;241m.\u001b[39mgetaddrinfo(host, port, family, \u001b[38;5;28mtype\u001b[39m, proto, flags):\n\u001b[0;32m    963\u001b[0m     af, socktype, proto, canonname, sa \u001b[38;5;241m=\u001b[39m res\n",
      "\u001b[1;31mgaierror\u001b[0m: [Errno 11001] getaddrinfo failed",
      "\nThe above exception was the direct cause of the following exception:\n",
      "\u001b[1;31mNameResolutionError\u001b[0m                       Traceback (most recent call last)",
      "File \u001b[1;32mC:\\ProgramData\\anaconda3\\Lib\\site-packages\\urllib3\\connectionpool.py:791\u001b[0m, in \u001b[0;36mHTTPConnectionPool.urlopen\u001b[1;34m(self, method, url, body, headers, retries, redirect, assert_same_host, timeout, pool_timeout, release_conn, chunked, body_pos, preload_content, decode_content, **response_kw)\u001b[0m\n\u001b[0;32m    790\u001b[0m \u001b[38;5;66;03m# Make the request on the HTTPConnection object\u001b[39;00m\n\u001b[1;32m--> 791\u001b[0m response \u001b[38;5;241m=\u001b[39m \u001b[38;5;28mself\u001b[39m\u001b[38;5;241m.\u001b[39m_make_request(\n\u001b[0;32m    792\u001b[0m     conn,\n\u001b[0;32m    793\u001b[0m     method,\n\u001b[0;32m    794\u001b[0m     url,\n\u001b[0;32m    795\u001b[0m     timeout\u001b[38;5;241m=\u001b[39mtimeout_obj,\n\u001b[0;32m    796\u001b[0m     body\u001b[38;5;241m=\u001b[39mbody,\n\u001b[0;32m    797\u001b[0m     headers\u001b[38;5;241m=\u001b[39mheaders,\n\u001b[0;32m    798\u001b[0m     chunked\u001b[38;5;241m=\u001b[39mchunked,\n\u001b[0;32m    799\u001b[0m     retries\u001b[38;5;241m=\u001b[39mretries,\n\u001b[0;32m    800\u001b[0m     response_conn\u001b[38;5;241m=\u001b[39mresponse_conn,\n\u001b[0;32m    801\u001b[0m     preload_content\u001b[38;5;241m=\u001b[39mpreload_content,\n\u001b[0;32m    802\u001b[0m     decode_content\u001b[38;5;241m=\u001b[39mdecode_content,\n\u001b[0;32m    803\u001b[0m     \u001b[38;5;241m*\u001b[39m\u001b[38;5;241m*\u001b[39mresponse_kw,\n\u001b[0;32m    804\u001b[0m )\n\u001b[0;32m    806\u001b[0m \u001b[38;5;66;03m# Everything went great!\u001b[39;00m\n",
      "File \u001b[1;32mC:\\ProgramData\\anaconda3\\Lib\\site-packages\\urllib3\\connectionpool.py:492\u001b[0m, in \u001b[0;36mHTTPConnectionPool._make_request\u001b[1;34m(self, conn, method, url, body, headers, retries, timeout, chunked, response_conn, preload_content, decode_content, enforce_content_length)\u001b[0m\n\u001b[0;32m    491\u001b[0m         new_e \u001b[38;5;241m=\u001b[39m _wrap_proxy_error(new_e, conn\u001b[38;5;241m.\u001b[39mproxy\u001b[38;5;241m.\u001b[39mscheme)\n\u001b[1;32m--> 492\u001b[0m     \u001b[38;5;28;01mraise\u001b[39;00m new_e\n\u001b[0;32m    494\u001b[0m \u001b[38;5;66;03m# conn.request() calls http.client.*.request, not the method in\u001b[39;00m\n\u001b[0;32m    495\u001b[0m \u001b[38;5;66;03m# urllib3.request. It also calls makefile (recv) on the socket.\u001b[39;00m\n",
      "File \u001b[1;32mC:\\ProgramData\\anaconda3\\Lib\\site-packages\\urllib3\\connectionpool.py:468\u001b[0m, in \u001b[0;36mHTTPConnectionPool._make_request\u001b[1;34m(self, conn, method, url, body, headers, retries, timeout, chunked, response_conn, preload_content, decode_content, enforce_content_length)\u001b[0m\n\u001b[0;32m    467\u001b[0m \u001b[38;5;28;01mtry\u001b[39;00m:\n\u001b[1;32m--> 468\u001b[0m     \u001b[38;5;28mself\u001b[39m\u001b[38;5;241m.\u001b[39m_validate_conn(conn)\n\u001b[0;32m    469\u001b[0m \u001b[38;5;28;01mexcept\u001b[39;00m (SocketTimeout, BaseSSLError) \u001b[38;5;28;01mas\u001b[39;00m e:\n",
      "File \u001b[1;32mC:\\ProgramData\\anaconda3\\Lib\\site-packages\\urllib3\\connectionpool.py:1097\u001b[0m, in \u001b[0;36mHTTPSConnectionPool._validate_conn\u001b[1;34m(self, conn)\u001b[0m\n\u001b[0;32m   1096\u001b[0m \u001b[38;5;28;01mif\u001b[39;00m conn\u001b[38;5;241m.\u001b[39mis_closed:\n\u001b[1;32m-> 1097\u001b[0m     conn\u001b[38;5;241m.\u001b[39mconnect()\n\u001b[0;32m   1099\u001b[0m \u001b[38;5;28;01mif\u001b[39;00m \u001b[38;5;129;01mnot\u001b[39;00m conn\u001b[38;5;241m.\u001b[39mis_verified:\n",
      "File \u001b[1;32mC:\\ProgramData\\anaconda3\\Lib\\site-packages\\urllib3\\connection.py:611\u001b[0m, in \u001b[0;36mHTTPSConnection.connect\u001b[1;34m(self)\u001b[0m\n\u001b[0;32m    610\u001b[0m sock: socket\u001b[38;5;241m.\u001b[39msocket \u001b[38;5;241m|\u001b[39m ssl\u001b[38;5;241m.\u001b[39mSSLSocket\n\u001b[1;32m--> 611\u001b[0m \u001b[38;5;28mself\u001b[39m\u001b[38;5;241m.\u001b[39msock \u001b[38;5;241m=\u001b[39m sock \u001b[38;5;241m=\u001b[39m \u001b[38;5;28mself\u001b[39m\u001b[38;5;241m.\u001b[39m_new_conn()\n\u001b[0;32m    612\u001b[0m server_hostname: \u001b[38;5;28mstr\u001b[39m \u001b[38;5;241m=\u001b[39m \u001b[38;5;28mself\u001b[39m\u001b[38;5;241m.\u001b[39mhost\n",
      "File \u001b[1;32mC:\\ProgramData\\anaconda3\\Lib\\site-packages\\urllib3\\connection.py:210\u001b[0m, in \u001b[0;36mHTTPConnection._new_conn\u001b[1;34m(self)\u001b[0m\n\u001b[0;32m    209\u001b[0m \u001b[38;5;28;01mexcept\u001b[39;00m socket\u001b[38;5;241m.\u001b[39mgaierror \u001b[38;5;28;01mas\u001b[39;00m e:\n\u001b[1;32m--> 210\u001b[0m     \u001b[38;5;28;01mraise\u001b[39;00m NameResolutionError(\u001b[38;5;28mself\u001b[39m\u001b[38;5;241m.\u001b[39mhost, \u001b[38;5;28mself\u001b[39m, e) \u001b[38;5;28;01mfrom\u001b[39;00m \u001b[38;5;21;01me\u001b[39;00m\n\u001b[0;32m    211\u001b[0m \u001b[38;5;28;01mexcept\u001b[39;00m SocketTimeout \u001b[38;5;28;01mas\u001b[39;00m e:\n",
      "\u001b[1;31mNameResolutionError\u001b[0m: <urllib3.connection.HTTPSConnection object at 0x000002C400DE3AD0>: Failed to resolve 'www.lumberjack.com' ([Errno 11001] getaddrinfo failed)",
      "\nThe above exception was the direct cause of the following exception:\n",
      "\u001b[1;31mMaxRetryError\u001b[0m                             Traceback (most recent call last)",
      "File \u001b[1;32mC:\\ProgramData\\anaconda3\\Lib\\site-packages\\requests\\adapters.py:486\u001b[0m, in \u001b[0;36mHTTPAdapter.send\u001b[1;34m(self, request, stream, timeout, verify, cert, proxies)\u001b[0m\n\u001b[0;32m    485\u001b[0m \u001b[38;5;28;01mtry\u001b[39;00m:\n\u001b[1;32m--> 486\u001b[0m     resp \u001b[38;5;241m=\u001b[39m conn\u001b[38;5;241m.\u001b[39murlopen(\n\u001b[0;32m    487\u001b[0m         method\u001b[38;5;241m=\u001b[39mrequest\u001b[38;5;241m.\u001b[39mmethod,\n\u001b[0;32m    488\u001b[0m         url\u001b[38;5;241m=\u001b[39murl,\n\u001b[0;32m    489\u001b[0m         body\u001b[38;5;241m=\u001b[39mrequest\u001b[38;5;241m.\u001b[39mbody,\n\u001b[0;32m    490\u001b[0m         headers\u001b[38;5;241m=\u001b[39mrequest\u001b[38;5;241m.\u001b[39mheaders,\n\u001b[0;32m    491\u001b[0m         redirect\u001b[38;5;241m=\u001b[39m\u001b[38;5;28;01mFalse\u001b[39;00m,\n\u001b[0;32m    492\u001b[0m         assert_same_host\u001b[38;5;241m=\u001b[39m\u001b[38;5;28;01mFalse\u001b[39;00m,\n\u001b[0;32m    493\u001b[0m         preload_content\u001b[38;5;241m=\u001b[39m\u001b[38;5;28;01mFalse\u001b[39;00m,\n\u001b[0;32m    494\u001b[0m         decode_content\u001b[38;5;241m=\u001b[39m\u001b[38;5;28;01mFalse\u001b[39;00m,\n\u001b[0;32m    495\u001b[0m         retries\u001b[38;5;241m=\u001b[39m\u001b[38;5;28mself\u001b[39m\u001b[38;5;241m.\u001b[39mmax_retries,\n\u001b[0;32m    496\u001b[0m         timeout\u001b[38;5;241m=\u001b[39mtimeout,\n\u001b[0;32m    497\u001b[0m         chunked\u001b[38;5;241m=\u001b[39mchunked,\n\u001b[0;32m    498\u001b[0m     )\n\u001b[0;32m    500\u001b[0m \u001b[38;5;28;01mexcept\u001b[39;00m (ProtocolError, \u001b[38;5;167;01mOSError\u001b[39;00m) \u001b[38;5;28;01mas\u001b[39;00m err:\n",
      "File \u001b[1;32mC:\\ProgramData\\anaconda3\\Lib\\site-packages\\urllib3\\connectionpool.py:845\u001b[0m, in \u001b[0;36mHTTPConnectionPool.urlopen\u001b[1;34m(self, method, url, body, headers, retries, redirect, assert_same_host, timeout, pool_timeout, release_conn, chunked, body_pos, preload_content, decode_content, **response_kw)\u001b[0m\n\u001b[0;32m    843\u001b[0m     new_e \u001b[38;5;241m=\u001b[39m ProtocolError(\u001b[38;5;124m\"\u001b[39m\u001b[38;5;124mConnection aborted.\u001b[39m\u001b[38;5;124m\"\u001b[39m, new_e)\n\u001b[1;32m--> 845\u001b[0m retries \u001b[38;5;241m=\u001b[39m retries\u001b[38;5;241m.\u001b[39mincrement(\n\u001b[0;32m    846\u001b[0m     method, url, error\u001b[38;5;241m=\u001b[39mnew_e, _pool\u001b[38;5;241m=\u001b[39m\u001b[38;5;28mself\u001b[39m, _stacktrace\u001b[38;5;241m=\u001b[39msys\u001b[38;5;241m.\u001b[39mexc_info()[\u001b[38;5;241m2\u001b[39m]\n\u001b[0;32m    847\u001b[0m )\n\u001b[0;32m    848\u001b[0m retries\u001b[38;5;241m.\u001b[39msleep()\n",
      "File \u001b[1;32mC:\\ProgramData\\anaconda3\\Lib\\site-packages\\urllib3\\util\\retry.py:515\u001b[0m, in \u001b[0;36mRetry.increment\u001b[1;34m(self, method, url, response, error, _pool, _stacktrace)\u001b[0m\n\u001b[0;32m    514\u001b[0m     reason \u001b[38;5;241m=\u001b[39m error \u001b[38;5;129;01mor\u001b[39;00m ResponseError(cause)\n\u001b[1;32m--> 515\u001b[0m     \u001b[38;5;28;01mraise\u001b[39;00m MaxRetryError(_pool, url, reason) \u001b[38;5;28;01mfrom\u001b[39;00m \u001b[38;5;21;01mreason\u001b[39;00m  \u001b[38;5;66;03m# type: ignore[arg-type]\u001b[39;00m\n\u001b[0;32m    517\u001b[0m log\u001b[38;5;241m.\u001b[39mdebug(\u001b[38;5;124m\"\u001b[39m\u001b[38;5;124mIncremented Retry for (url=\u001b[39m\u001b[38;5;124m'\u001b[39m\u001b[38;5;132;01m%s\u001b[39;00m\u001b[38;5;124m'\u001b[39m\u001b[38;5;124m): \u001b[39m\u001b[38;5;132;01m%r\u001b[39;00m\u001b[38;5;124m\"\u001b[39m, url, new_retry)\n",
      "\u001b[1;31mMaxRetryError\u001b[0m: HTTPSConnectionPool(host='www.lumberjack.com', port=443): Max retries exceeded with url: /it/shoes?page=1 (Caused by NameResolutionError(\"<urllib3.connection.HTTPSConnection object at 0x000002C400DE3AD0>: Failed to resolve 'www.lumberjack.com' ([Errno 11001] getaddrinfo failed)\"))",
      "\nDuring handling of the above exception, another exception occurred:\n",
      "\u001b[1;31mConnectionError\u001b[0m                           Traceback (most recent call last)",
      "Cell \u001b[1;32mIn[11], line 58\u001b[0m\n\u001b[0;32m     55\u001b[0m     \u001b[38;5;28;01mreturn\u001b[39;00m product_details\n\u001b[0;32m     57\u001b[0m \u001b[38;5;66;03m#Determino i link calolati tramite la prima funzione\u001b[39;00m\n\u001b[1;32m---> 58\u001b[0m shoe_links \u001b[38;5;241m=\u001b[39m get_shoe_links()\n\u001b[0;32m     59\u001b[0m \u001b[38;5;66;03m#Dichiaro un raccoglitore vuoto per la generazione dei dati dal ciclo for successivo\u001b[39;00m\n\u001b[0;32m     60\u001b[0m all_product_details \u001b[38;5;241m=\u001b[39m []\n",
      "Cell \u001b[1;32mIn[11], line 17\u001b[0m, in \u001b[0;36mget_shoe_links\u001b[1;34m()\u001b[0m\n\u001b[0;32m     15\u001b[0m \u001b[38;5;28;01mfor\u001b[39;00m page \u001b[38;5;129;01min\u001b[39;00m \u001b[38;5;28mrange\u001b[39m(\u001b[38;5;241m1\u001b[39m, \u001b[38;5;241m31\u001b[39m):\n\u001b[0;32m     16\u001b[0m     page_url \u001b[38;5;241m=\u001b[39m base_url\u001b[38;5;241m.\u001b[39mformat(page)\n\u001b[1;32m---> 17\u001b[0m     response \u001b[38;5;241m=\u001b[39m requests\u001b[38;5;241m.\u001b[39mget(page_url)\n\u001b[0;32m     18\u001b[0m     soup \u001b[38;5;241m=\u001b[39m BeautifulSoup(response\u001b[38;5;241m.\u001b[39mcontent, \u001b[38;5;124m\"\u001b[39m\u001b[38;5;124mhtml.parser\u001b[39m\u001b[38;5;124m\"\u001b[39m)\n\u001b[0;32m     20\u001b[0m     \u001b[38;5;66;03m# Trovo tutti i link alle pagine delle scarpe nella pagina corrente\u001b[39;00m\n",
      "File \u001b[1;32mC:\\ProgramData\\anaconda3\\Lib\\site-packages\\requests\\api.py:73\u001b[0m, in \u001b[0;36mget\u001b[1;34m(url, params, **kwargs)\u001b[0m\n\u001b[0;32m     62\u001b[0m \u001b[38;5;28;01mdef\u001b[39;00m \u001b[38;5;21mget\u001b[39m(url, params\u001b[38;5;241m=\u001b[39m\u001b[38;5;28;01mNone\u001b[39;00m, \u001b[38;5;241m*\u001b[39m\u001b[38;5;241m*\u001b[39mkwargs):\n\u001b[0;32m     63\u001b[0m \u001b[38;5;250m    \u001b[39m\u001b[38;5;124mr\u001b[39m\u001b[38;5;124;03m\"\"\"Sends a GET request.\u001b[39;00m\n\u001b[0;32m     64\u001b[0m \n\u001b[0;32m     65\u001b[0m \u001b[38;5;124;03m    :param url: URL for the new :class:`Request` object.\u001b[39;00m\n\u001b[1;32m   (...)\u001b[0m\n\u001b[0;32m     70\u001b[0m \u001b[38;5;124;03m    :rtype: requests.Response\u001b[39;00m\n\u001b[0;32m     71\u001b[0m \u001b[38;5;124;03m    \"\"\"\u001b[39;00m\n\u001b[1;32m---> 73\u001b[0m     \u001b[38;5;28;01mreturn\u001b[39;00m request(\u001b[38;5;124m\"\u001b[39m\u001b[38;5;124mget\u001b[39m\u001b[38;5;124m\"\u001b[39m, url, params\u001b[38;5;241m=\u001b[39mparams, \u001b[38;5;241m*\u001b[39m\u001b[38;5;241m*\u001b[39mkwargs)\n",
      "File \u001b[1;32mC:\\ProgramData\\anaconda3\\Lib\\site-packages\\requests\\api.py:59\u001b[0m, in \u001b[0;36mrequest\u001b[1;34m(method, url, **kwargs)\u001b[0m\n\u001b[0;32m     55\u001b[0m \u001b[38;5;66;03m# By using the 'with' statement we are sure the session is closed, thus we\u001b[39;00m\n\u001b[0;32m     56\u001b[0m \u001b[38;5;66;03m# avoid leaving sockets open which can trigger a ResourceWarning in some\u001b[39;00m\n\u001b[0;32m     57\u001b[0m \u001b[38;5;66;03m# cases, and look like a memory leak in others.\u001b[39;00m\n\u001b[0;32m     58\u001b[0m \u001b[38;5;28;01mwith\u001b[39;00m sessions\u001b[38;5;241m.\u001b[39mSession() \u001b[38;5;28;01mas\u001b[39;00m session:\n\u001b[1;32m---> 59\u001b[0m     \u001b[38;5;28;01mreturn\u001b[39;00m session\u001b[38;5;241m.\u001b[39mrequest(method\u001b[38;5;241m=\u001b[39mmethod, url\u001b[38;5;241m=\u001b[39murl, \u001b[38;5;241m*\u001b[39m\u001b[38;5;241m*\u001b[39mkwargs)\n",
      "File \u001b[1;32mC:\\ProgramData\\anaconda3\\Lib\\site-packages\\requests\\sessions.py:589\u001b[0m, in \u001b[0;36mSession.request\u001b[1;34m(self, method, url, params, data, headers, cookies, files, auth, timeout, allow_redirects, proxies, hooks, stream, verify, cert, json)\u001b[0m\n\u001b[0;32m    584\u001b[0m send_kwargs \u001b[38;5;241m=\u001b[39m {\n\u001b[0;32m    585\u001b[0m     \u001b[38;5;124m\"\u001b[39m\u001b[38;5;124mtimeout\u001b[39m\u001b[38;5;124m\"\u001b[39m: timeout,\n\u001b[0;32m    586\u001b[0m     \u001b[38;5;124m\"\u001b[39m\u001b[38;5;124mallow_redirects\u001b[39m\u001b[38;5;124m\"\u001b[39m: allow_redirects,\n\u001b[0;32m    587\u001b[0m }\n\u001b[0;32m    588\u001b[0m send_kwargs\u001b[38;5;241m.\u001b[39mupdate(settings)\n\u001b[1;32m--> 589\u001b[0m resp \u001b[38;5;241m=\u001b[39m \u001b[38;5;28mself\u001b[39m\u001b[38;5;241m.\u001b[39msend(prep, \u001b[38;5;241m*\u001b[39m\u001b[38;5;241m*\u001b[39msend_kwargs)\n\u001b[0;32m    591\u001b[0m \u001b[38;5;28;01mreturn\u001b[39;00m resp\n",
      "File \u001b[1;32mC:\\ProgramData\\anaconda3\\Lib\\site-packages\\requests\\sessions.py:703\u001b[0m, in \u001b[0;36mSession.send\u001b[1;34m(self, request, **kwargs)\u001b[0m\n\u001b[0;32m    700\u001b[0m start \u001b[38;5;241m=\u001b[39m preferred_clock()\n\u001b[0;32m    702\u001b[0m \u001b[38;5;66;03m# Send the request\u001b[39;00m\n\u001b[1;32m--> 703\u001b[0m r \u001b[38;5;241m=\u001b[39m adapter\u001b[38;5;241m.\u001b[39msend(request, \u001b[38;5;241m*\u001b[39m\u001b[38;5;241m*\u001b[39mkwargs)\n\u001b[0;32m    705\u001b[0m \u001b[38;5;66;03m# Total elapsed time of the request (approximately)\u001b[39;00m\n\u001b[0;32m    706\u001b[0m elapsed \u001b[38;5;241m=\u001b[39m preferred_clock() \u001b[38;5;241m-\u001b[39m start\n",
      "File \u001b[1;32mC:\\ProgramData\\anaconda3\\Lib\\site-packages\\requests\\adapters.py:519\u001b[0m, in \u001b[0;36mHTTPAdapter.send\u001b[1;34m(self, request, stream, timeout, verify, cert, proxies)\u001b[0m\n\u001b[0;32m    515\u001b[0m     \u001b[38;5;28;01mif\u001b[39;00m \u001b[38;5;28misinstance\u001b[39m(e\u001b[38;5;241m.\u001b[39mreason, _SSLError):\n\u001b[0;32m    516\u001b[0m         \u001b[38;5;66;03m# This branch is for urllib3 v1.22 and later.\u001b[39;00m\n\u001b[0;32m    517\u001b[0m         \u001b[38;5;28;01mraise\u001b[39;00m SSLError(e, request\u001b[38;5;241m=\u001b[39mrequest)\n\u001b[1;32m--> 519\u001b[0m     \u001b[38;5;28;01mraise\u001b[39;00m \u001b[38;5;167;01mConnectionError\u001b[39;00m(e, request\u001b[38;5;241m=\u001b[39mrequest)\n\u001b[0;32m    521\u001b[0m \u001b[38;5;28;01mexcept\u001b[39;00m ClosedPoolError \u001b[38;5;28;01mas\u001b[39;00m e:\n\u001b[0;32m    522\u001b[0m     \u001b[38;5;28;01mraise\u001b[39;00m \u001b[38;5;167;01mConnectionError\u001b[39;00m(e, request\u001b[38;5;241m=\u001b[39mrequest)\n",
      "\u001b[1;31mConnectionError\u001b[0m: HTTPSConnectionPool(host='www.lumberjack.com', port=443): Max retries exceeded with url: /it/shoes?page=1 (Caused by NameResolutionError(\"<urllib3.connection.HTTPSConnection object at 0x000002C400DE3AD0>: Failed to resolve 'www.lumberjack.com' ([Errno 11001] getaddrinfo failed)\"))"
     ]
    }
   ],
   "source": [
    "#SCRIPT PER LO SCRAPING DI TUTTI I DATI RELATIVI A SHOES DI lumberjack (SIA UOMO CHE DONNA)\n",
    "\n",
    "import requests\n",
    "from bs4 import BeautifulSoup\n",
    "import pandas as pd\n",
    "\n",
    "base_url = \"https://www.lumberjack.com/it/shoes?page={}\"\n",
    "\n",
    "#Nel caso in cui si volesse fare un filtro solo donna da sito, la pagina da considerare è la seguente:\n",
    "# base_url = \"https://www.lumberjack.com/it/campaign/woman?category=shoes&page={}\"\n",
    "\n",
    "def get_shoe_links():\n",
    "    shoe_links = []\n",
    "\n",
    "    for page in range(1, 31):\n",
    "        page_url = base_url.format(page)\n",
    "        response = requests.get(page_url)\n",
    "        soup = BeautifulSoup(response.content, \"html.parser\")\n",
    "\n",
    "        # Trovo tutti i link alle pagine delle scarpe nella pagina corrente\n",
    "        for shoe_div in soup.find_all(\"div\", class_=\"js-product-vertical col-6 col-lg-4 listing__col-product\"):\n",
    "            link = shoe_div.find(\"a\", href=True)\n",
    "            if link:\n",
    "                shoe_links.append(link[\"href\"])\n",
    "\n",
    "    return shoe_links\n",
    "\n",
    "def get_product_details(url):\n",
    "    response = requests.get(url)\n",
    "    soup = BeautifulSoup(response.content, \"html.parser\")\n",
    "\n",
    "    product_details = {}\n",
    "\n",
    "    # Trova tutti i valori delle classi col-6 - dati scelti per lo studio\n",
    "    for div in soup.find_all(\"div\", class_=\"col-6\"):\n",
    "        text = div.get_text(strip=True)\n",
    "        if \"Marchio\" in text:\n",
    "            product_details[\"Marchio\"] = text.replace(\"Marchio: \", \"\")\n",
    "        elif \"Modello\" in text:\n",
    "            product_details[\"Modello\"] = text.replace(\"Modello: \", \"\")\n",
    "        elif \"Colore\" in text:\n",
    "            product_details[\"Colore\"] = text.replace(\"Colore: \", \"\")\n",
    "        elif \"Materiale\" in text:\n",
    "            product_details[\"Materiale\"] = text.replace(\"Materiale: \", \"\")\n",
    "        elif \"Altri Prodotti\" in text:\n",
    "            product_details[\"Altri Prodotti\"] = text.replace(\"Altri Prodotti: \", \"\")\n",
    "        elif \"Genere\" in text:\n",
    "            product_details[\"Genere\"] = text.replace(\"Genere: \", \"\")\n",
    "\n",
    "    # Trova il prezzo del prodotto - presente nella stessa pagina ma con diverso riferimento\n",
    "    price_div = soup.find(\"span\", class_=\"product__prices-sale\")\n",
    "    if price_div:\n",
    "        product_details[\"Prezzo\"] = price_div.get_text(strip=True)\n",
    "\n",
    "    return product_details\n",
    "\n",
    "#Determino i link calolati tramite la prima funzione\n",
    "shoe_links = get_shoe_links()\n",
    "#Dichiaro un raccoglitore vuoto per la generazione dei dati dal ciclo for successivo\n",
    "all_product_details = []\n",
    "\n",
    "# Ciclo for per ricercare ricercare nelle singole pagine con i dati della prima funzione, e con la seconda estrarre i valori richiesti\n",
    "for link in shoe_links:\n",
    "    full_url = \"https://www.lumberjack.com\" + link\n",
    "    product_details = get_product_details(full_url)\n",
    "    all_product_details.append(product_details)\n",
    "\n",
    "# Stampo il numero di pagine/scarpe trovare così da comparare al valore riportato sul sito\n",
    "print(f\"Numero totale di link trovati: {len(shoe_links)}\")\n",
    "\n",
    "# Creo un dataframe per l'elaborazione dei dati\n",
    "df = pd.DataFrame(all_product_details)\n",
    "print(df)\n",
    "\n",
    "# Creo una copia del dataframe (da eventualmente utilizzare in script successivi)\n",
    "df_copy = df.copy()\n",
    "\n",
    "# Salvo il DataFrame in un file CSV (per avere una copia pronta per attività successive)\n",
    "df_copy_lumberjack.to_csv(\"shoe_data_lumberjack.csv\", index=False)\n",
    "\n",
    "print(\"DataFrame Lumberjack salvato in 'shoe_data_lumberjack.csv'\")"
   ]
  },
  {
   "cell_type": "code",
   "execution_count": 3,
   "metadata": {
    "id": "ZeZ-R6y2tX2E",
    "tags": []
   },
   "outputs": [
    {
     "name": "stdout",
     "output_type": "stream",
     "text": [
      "Dataframe Kammi estratto e salvato in 'kammi_data.csv'.\n"
     ]
    }
   ],
   "source": [
    "import requests\n",
    "from bs4 import BeautifulSoup\n",
    "import pandas as pd\n",
    "\n",
    "# URL della sitemap\n",
    "sitemap_url = \"https://www.kammi.it/sitemap.xml\"\n",
    "\n",
    "# Inizialmente si era considerato di utilizzare le pagine derivanti dalla scelta da sito:\n",
    "    #pagina per le scarpe estive:\n",
    "    # url = \"https://www.kammi.it/scarpe-donna/\" -> genero copy2\n",
    "\n",
    "#Nel caso in cui si volessero considerare quelle invernali separatamente:\n",
    "    # url = \"https://www.kammi.it/scarpe-donna-autunno-inverno/\" -> genero copy3\n",
    "\n",
    "#Nel caso in cui volessimo entrambi i dataframe invernale ed estivo, potremmo far elaborare lo script di entrambi separatamente e poi unirli come sotto:\n",
    "# df_kimmi = pd.concat([df_copy2, df_copy3], ignore_index=True)\n",
    "# df_kimmi\n",
    "\n",
    "\n",
    "# Richiedo accesso al sito per la richiesta di dati\n",
    "response = requests.get(sitemap_url)\n",
    "soup = BeautifulSoup(response.content, 'xml')\n",
    "\n",
    "# Dopo verifica è emerso che non conviene estrarre tutti i link ma solo quelli con alla fine \".html\"\n",
    "urls = [loc.text for loc in soup.find_all('loc') if loc.text.endswith('.html')]\n",
    "\n",
    "# Ho già i link, ma occorre una funzione per rintracciare i \"pulsanti\" contenenti le taglie\n",
    "def extract_values(url):\n",
    "    response = requests.get(url)\n",
    "    soup = BeautifulSoup(response.content, 'html.parser')\n",
    "\n",
    "    # Trovo tutti i pulsanti con la classe specifica che contiene i valori \"value\"\n",
    "    buttons = soup.find_all('button', class_='content d-flex align-items-center justify-content-center p-2 checkRitiroPP')\n",
    "\n",
    "    # Esporto tutte le taglie in un'unica stringa separati da \"-\" poichè mi interessa fare un check sul range di taglie\n",
    "    valori = \"-\".join([button.get_text(strip=True) for button in buttons])\n",
    "\n",
    "    return valori\n",
    "\n",
    "\n",
    "# Funzione per estrarre i dati da una pagina, nel caso in cui siano assenti, considero giò un \"Non disponibile\" come valore di riferimento\n",
    "def extract_data(url):\n",
    "    page = requests.get(url)\n",
    "    page_soup = BeautifulSoup(page.content, 'html.parser')\n",
    "\n",
    "    # Riferimento per il <percorso> con info su categorie,sottocategorie\n",
    "    breadcrumb_items = page_soup.select('.breadcrumb-item')\n",
    "    percorso = \" - \".join([item.get_text(strip=True) for item in breadcrumb_items])\n",
    "\n",
    "    # Nome del prodotto\n",
    "    nome = page_soup.select_one('h1.text-black.h4.fw-bold')\n",
    "    nome = nome.get_text(strip=True) if nome else \"Non disponibile\"\n",
    "\n",
    "    # Prezzo\n",
    "    prezzo = page_soup.select_one('.price.mt-2')\n",
    "    prezzo = prezzo.get_text(strip=True) if prezzo else \"Non disponibile\"\n",
    "\n",
    "    # Descrizione\n",
    "    descrizione = page_soup.select_one('.mt-4')\n",
    "    descrizione = descrizione.get_text(strip=True) if descrizione else \"Non disponibile\"\n",
    "\n",
    "    valori = extract_values(url)\n",
    "\n",
    "    return {\"URL\": url, \"Percorso\": percorso, \"Nome\": nome, \"Taglie\": valori, \"Prezzo\": prezzo, \"Descrizione\": descrizione}\n",
    "\n",
    "# Creo una lista per salvare i dati\n",
    "data = []\n",
    "\n",
    "# Sulla base dei siti itero la funzione per link ed ottendo i dati \n",
    "for url in urls:\n",
    "    data.append(extract_data(url))\n",
    "\n",
    "# Creo il dataframe con i dati\n",
    "df_kammi = pd.DataFrame(data)\n",
    "\n",
    "# Creo una copia del DataFrame (da eventualmente utilizzare in script successivi)\n",
    "df_copy2 = df.copy()\n",
    "\n",
    "# Salva il DataFrame in un file CSV (per avere una copia pronta per attività successive)\n",
    "df_copy_kammi.to_csv(\"kammi_data.csv\", index=False)\n",
    "\n",
    "print(\"Dataframe Kammi estratto e salvato in 'kammi_data.csv'.\")"
   ]
  },
  {
   "cell_type": "code",
   "execution_count": 9,
   "metadata": {
    "colab": {
     "base_uri": "https://localhost:8080/",
     "height": 146
    },
    "collapsed": true,
    "id": "-sOUWYGLhkpQ",
    "jupyter": {
     "outputs_hidden": true
    },
    "outputId": "357670a3-d0af-4091-cc96-2f7f65fb9031",
    "tags": []
   },
   "outputs": [
    {
     "ename": "NameError",
     "evalue": "name 'df_copy' is not defined",
     "output_type": "error",
     "traceback": [
      "\u001b[1;31m---------------------------------------------------------------------------\u001b[0m",
      "\u001b[1;31mNameError\u001b[0m                                 Traceback (most recent call last)",
      "Cell \u001b[1;32mIn[9], line 1\u001b[0m\n\u001b[1;32m----> 1\u001b[0m \u001b[38;5;28mprint\u001b[39m(df_copy\u001b[38;5;241m.\u001b[39mhead(\u001b[38;5;241m5\u001b[39m))\n",
      "\u001b[1;31mNameError\u001b[0m: name 'df_copy' is not defined"
     ]
    }
   ],
   "source": [
    "Per utilità stampo a schermo i primi valori di lumberjack e kammi:\n",
    "print(\"lumberjack\",\"\\n\",df_copy.head(5))\n",
    "print(\"lumberjack\",\"\\n\",df_copy2.head(5))"
   ]
  },
  {
   "cell_type": "code",
   "execution_count": 208,
   "metadata": {
    "id": "aHwyMS-ldYbR",
    "tags": []
   },
   "outputs": [
    {
     "name": "stdout",
     "output_type": "stream",
     "text": [
      "Dati Prima: \n",
      "              Marchio        Modello         Genere       Colore  \\\n",
      "0  MarchioLumberjack   ModelloLILLI  GenereBambina  ColoreWhite   \n",
      "1  MarchioLumberjack  ModelloATHENS    GenereDonna  ColoreBlack   \n",
      "2  MarchioLumberjack    ModelloSERY    GenereDonna  ColoreWhite   \n",
      "3  MarchioLumberjack    ModelloSERY    GenereDonna  ColoreBlack   \n",
      "4  MarchioLumberjack   ModelloZILWA    GenereDonna  ColoreWhite   \n",
      "\n",
      "                   Materiale          Altri Prodotti     Prezzo  \n",
      "0  MaterialeSYNTHETIC SMOOTH  Altri ProdottiSneakers  37,99 EUR  \n",
      "1           MaterialeMESH-PU  Altri ProdottiSneakers  59,99 EUR  \n",
      "2           MaterialeMESH-PU  Altri ProdottiSneakers  59,99 EUR  \n",
      "3          MaterialeKNITWEAR  Altri ProdottiSneakers  59,99 EUR  \n",
      "4           MaterialeMESH-PU  Altri ProdottiSneakers  59,99 EUR  \n",
      "Dati Dopo: \n",
      "       Marchio Modello   Genere Colore         Materiale Categoria  Prezzo\n",
      "0  LUMBERJACK   LILLI  BAMBINA  WHITE  SYNTHETIC SMOOTH  SNEAKERS   37.99\n",
      "1  LUMBERJACK  ATHENS    DONNA  BLACK           MESH-PU  SNEAKERS   59.99\n",
      "2  LUMBERJACK    SERY    DONNA  WHITE           MESH-PU  SNEAKERS   59.99\n",
      "3  LUMBERJACK    SERY    DONNA  BLACK          KNITWEAR  SNEAKERS   59.99\n",
      "4  LUMBERJACK   ZILWA    DONNA  WHITE           MESH-PU  SNEAKERS   59.99\n"
     ]
    }
   ],
   "source": [
    "#In basso tutte le operazioni fatte per pulire i dati di lumberjack:\n",
    "\n",
    "import pandas as pd\n",
    "\n",
    "df_copy=pd.read_csv(\"C:\\\\Users\\\\annun\\\\shoe_data_lumberjack.csv\")\n",
    "\n",
    "print(\"Dati Prima:\",\"\\n\",df_copy.head(5))\n",
    "\n",
    "df_copy[\"Marchio\"] = df_copy[\"Marchio\"].str.replace(\"Marchio\", \"\")\n",
    "df_copy[\"Modello\"] = df_copy[\"Modello\"].str.replace(\"Modello\", \"\")\n",
    "df_copy[\"Colore\"] = df_copy[\"Colore\"].str.replace(\"Colore\", \"\")\n",
    "df_copy[\"Materiale\"] = df_copy[\"Materiale\"].str.replace(\"Materiale\", \"\")\n",
    "df_copy[\"Altri Prodotti\"] = df_copy[\"Altri Prodotti\"].str.replace(\"Altri Prodotti\", \"\")\n",
    "df_copy[\"Genere\"] = df_copy[\"Genere\"].str.replace(\"Genere\", \"\")\n",
    "df_copy = df_copy.rename(columns={'Altri Prodotti': 'Categoria'})\n",
    "df_copy = df_copy.apply(lambda x: x.str.upper())\n",
    "df_copy.loc[df_copy[\"Categoria\"]==\"SCARPE\"]\n",
    "df_copy[\"Categoria\"] = df_copy[\"Categoria\"].replace(\"SCARPE\", \"SNEAKERS\"  )\n",
    "df_copy.groupby(\"Categoria\").count()\n",
    "df_copy[\"Prezzo\"] = df_copy[\"Prezzo\"].str.replace(r'\\s*EUR$', '', regex=True)\n",
    "df_copy[\"Prezzo\"] = df_copy[\"Prezzo\"].str.replace(',', '.')\n",
    "df_copy[\"Prezzo\"]= pd.to_numeric(df_copy[\"Prezzo\"])\n",
    "\n",
    "print(\"Dati Dopo:\",\"\\n\",df_copy.head(5))"
   ]
  },
  {
   "cell_type": "code",
   "execution_count": 23,
   "metadata": {
    "colab": {
     "base_uri": "https://localhost:8080/",
     "height": 310
    },
    "id": "s7PdmeMBjCO-",
    "outputId": "d616749e-873b-467d-9895-9ff094b1237a",
    "tags": []
   },
   "outputs": [
    {
     "name": "stdout",
     "output_type": "stream",
     "text": [
      "      Marchio Modello   Genere Colore         Materiale Categoria  Prezzo\n",
      "0  LUMBERJACK   LILLI  BAMBINA  WHITE  SYNTHETIC SMOOTH  SNEAKERS   37.99\n",
      "1  LUMBERJACK  ATHENS    DONNA  BLACK           MESH-PU  SNEAKERS   59.99\n",
      "2  LUMBERJACK    SERY    DONNA  WHITE           MESH-PU  SNEAKERS   59.99\n",
      "3  LUMBERJACK    SERY    DONNA  BLACK          KNITWEAR  SNEAKERS   59.99\n",
      "4  LUMBERJACK   ZILWA    DONNA  WHITE           MESH-PU  SNEAKERS   59.99\n"
     ]
    },
    {
     "data": {
      "text/html": [
       "<div>\n",
       "<style scoped>\n",
       "    .dataframe tbody tr th:only-of-type {\n",
       "        vertical-align: middle;\n",
       "    }\n",
       "\n",
       "    .dataframe tbody tr th {\n",
       "        vertical-align: top;\n",
       "    }\n",
       "\n",
       "    .dataframe thead th {\n",
       "        text-align: right;\n",
       "    }\n",
       "</style>\n",
       "<table border=\"1\" class=\"dataframe\">\n",
       "  <thead>\n",
       "    <tr style=\"text-align: right;\">\n",
       "      <th></th>\n",
       "      <th>Marchio</th>\n",
       "      <th>Modello</th>\n",
       "      <th>Genere</th>\n",
       "      <th>Colore</th>\n",
       "      <th>Materiale</th>\n",
       "      <th>Prezzo</th>\n",
       "    </tr>\n",
       "    <tr>\n",
       "      <th>Categoria</th>\n",
       "      <th></th>\n",
       "      <th></th>\n",
       "      <th></th>\n",
       "      <th></th>\n",
       "      <th></th>\n",
       "      <th></th>\n",
       "    </tr>\n",
       "  </thead>\n",
       "  <tbody>\n",
       "    <tr>\n",
       "      <th>BEATLES</th>\n",
       "      <td>2</td>\n",
       "      <td>2</td>\n",
       "      <td>2</td>\n",
       "      <td>2</td>\n",
       "      <td>2</td>\n",
       "      <td>2</td>\n",
       "    </tr>\n",
       "    <tr>\n",
       "      <th>MOCASSINI</th>\n",
       "      <td>24</td>\n",
       "      <td>24</td>\n",
       "      <td>24</td>\n",
       "      <td>24</td>\n",
       "      <td>24</td>\n",
       "      <td>24</td>\n",
       "    </tr>\n",
       "    <tr>\n",
       "      <th>SANDALI</th>\n",
       "      <td>185</td>\n",
       "      <td>185</td>\n",
       "      <td>185</td>\n",
       "      <td>185</td>\n",
       "      <td>185</td>\n",
       "      <td>185</td>\n",
       "    </tr>\n",
       "    <tr>\n",
       "      <th>SCARPE CASUAL</th>\n",
       "      <td>13</td>\n",
       "      <td>13</td>\n",
       "      <td>13</td>\n",
       "      <td>13</td>\n",
       "      <td>13</td>\n",
       "      <td>13</td>\n",
       "    </tr>\n",
       "    <tr>\n",
       "      <th>SCARPE DA BARCA</th>\n",
       "      <td>36</td>\n",
       "      <td>36</td>\n",
       "      <td>36</td>\n",
       "      <td>36</td>\n",
       "      <td>36</td>\n",
       "      <td>36</td>\n",
       "    </tr>\n",
       "    <tr>\n",
       "      <th>SNEAKERS</th>\n",
       "      <td>392</td>\n",
       "      <td>392</td>\n",
       "      <td>392</td>\n",
       "      <td>392</td>\n",
       "      <td>392</td>\n",
       "      <td>392</td>\n",
       "    </tr>\n",
       "    <tr>\n",
       "      <th>SPORT</th>\n",
       "      <td>10</td>\n",
       "      <td>10</td>\n",
       "      <td>10</td>\n",
       "      <td>10</td>\n",
       "      <td>10</td>\n",
       "      <td>10</td>\n",
       "    </tr>\n",
       "    <tr>\n",
       "      <th>STIVALI</th>\n",
       "      <td>6</td>\n",
       "      <td>6</td>\n",
       "      <td>6</td>\n",
       "      <td>6</td>\n",
       "      <td>6</td>\n",
       "      <td>6</td>\n",
       "    </tr>\n",
       "    <tr>\n",
       "      <th>STIVALI TECNICI</th>\n",
       "      <td>3</td>\n",
       "      <td>3</td>\n",
       "      <td>3</td>\n",
       "      <td>3</td>\n",
       "      <td>3</td>\n",
       "      <td>3</td>\n",
       "    </tr>\n",
       "  </tbody>\n",
       "</table>\n",
       "</div>"
      ],
      "text/plain": [
       "                 Marchio  Modello  Genere  Colore  Materiale  Prezzo\n",
       "Categoria                                                           \n",
       "BEATLES                2        2       2       2          2       2\n",
       "MOCASSINI             24       24      24      24         24      24\n",
       "SANDALI              185      185     185     185        185     185\n",
       "SCARPE CASUAL         13       13      13      13         13      13\n",
       "SCARPE DA BARCA       36       36      36      36         36      36\n",
       "SNEAKERS             392      392     392     392        392     392\n",
       "SPORT                 10       10      10      10         10      10\n",
       "STIVALI                6        6       6       6          6       6\n",
       "STIVALI TECNICI        3        3       3       3          3       3"
      ]
     },
     "execution_count": 23,
     "metadata": {},
     "output_type": "execute_result"
    }
   ],
   "source": [
    "#Verifica post pulizia\n",
    "print(df_copy.head(5))\n",
    "df_copy.groupby('Categoria').count()"
   ]
  },
  {
   "cell_type": "code",
   "execution_count": 234,
   "metadata": {
    "colab": {
     "base_uri": "https://localhost:8080/",
     "height": 423
    },
    "id": "jIQxcu4WvS4g",
    "outputId": "d980e6cb-1c5a-472e-e2be-f8b58099823f",
    "tags": []
   },
   "outputs": [
    {
     "name": "stdout",
     "output_type": "stream",
     "text": [
      "['SNEAKERS' 'DECOLLETÉ' 'SLIP' 'SNEAKER' 'SNEKERS' 'BALLERINA' 'BALLERINE'\n",
      " 'ESPADRILLAS' 'BEBÈ' 'SLINGBACK' 'CHANEL' 'ZEPPA' 'ZOCCOLO' 'SANDALO'\n",
      " 'MOCASSINO' 'TACCO' 'SCARPA' 'SNAKE' 'SPUNTATA' 'SABOT' 'BEBÉ']\n"
     ]
    }
   ],
   "source": [
    "#SCRIPT PER LA PULIZIA DEI DATI DI KAMMI\n",
    "df_copy2=pd.read_csv(\"C:\\\\Users\\\\annun\\\\kammi_data.csv\")\n",
    "#Filtro per solo donna:\n",
    "df_copy2 = df_copy2[df_copy2['Percorso'].str.contains('DONNA ESTIVE', case=False, na=False)]\n",
    "#Filtro eliminando dati vuoti per i percorsi:\n",
    "df_copy2 = df_copy2.dropna(subset=['Percorso'])\n",
    "df_copy2['Categoria'] = df_copy2['Nome'].str.split().str[0]\n",
    "df_copy2 = df_copy2.apply(lambda x: x.str.upper())\n",
    "df_copy2.groupby('Categoria').count()\n",
    "df_copy2[\"Prezzo\"] = df_copy2[\"Prezzo\"].str.replace('Non disponibile',\"0\")\n",
    "df_copy2[\"Prezzo\"] = df_copy2[\"Prezzo\"].str.replace('€', '', regex=True)\n",
    "df_copy2[\"Prezzo\"] = df_copy2[\"Prezzo\"].str.replace(',', '.')\n",
    "df_copy2[\"Prezzo\"]= pd.to_numeric(df_copy2[\"Prezzo\"])\n",
    "print(df_copy2['Categoria'].unique())"
   ]
  },
  {
   "cell_type": "code",
   "execution_count": 248,
   "metadata": {
    "tags": []
   },
   "outputs": [
    {
     "name": "stdout",
     "output_type": "stream",
     "text": [
      "['SNEAKERS' 'DECOLLETÉ' 'SLIP ON ON' 'BALLERINE' 'ESPADRILLAS' 'SLINGBACK'\n",
      " 'ZEPPA' 'SANDALI' 'MOCASSINI']\n"
     ]
    }
   ],
   "source": [
    "#Categorie necessità di pulizia\n",
    "\n",
    "df_copy2[\"Categoria\"] = df_copy2[\"Categoria\"].str.replace('SNEKERS', 'SNEAKERS')\n",
    "df_copy2[\"Categoria\"] = df_copy2[\"Categoria\"].str.replace('SNEAKER', 'SNEAKERS')\n",
    "df_copy2[\"Categoria\"] = df_copy2[\"Categoria\"].str.replace('SCARPA', 'SNEAKERS')\n",
    "df_copy2[\"Categoria\"] = df_copy2[\"Categoria\"].str.replace('SNEAKERSS', 'SNEAKERS')\n",
    "df_copy2[\"Categoria\"] = df_copy2[\"Categoria\"].str.replace('SNAKE', 'SNEAKERS')\n",
    "df_copy2[\"Categoria\"] = df_copy2[\"Categoria\"].str.replace('SNEAKES', 'SNEAKERS')\n",
    "df_copy2[\"Categoria\"] = df_copy2[\"Categoria\"].str.replace('SLIP', 'SLIP ON')\n",
    "df_copy2[\"Categoria\"] = df_copy2[\"Categoria\"].str.replace('BALLERINA', 'BALLERINE')\n",
    "df_copy2[\"Categoria\"] = df_copy2[\"Categoria\"].str.replace('ZOCCOLO', 'ZEPPA')\n",
    "df_copy2[\"Categoria\"] = df_copy2[\"Categoria\"].str.replace('CHANEL', 'DECOLLETÉ')\n",
    "df_copy2[\"Categoria\"] = df_copy2[\"Categoria\"].str.replace('SABOT', 'ZEPPA')\n",
    "df_copy2[\"Categoria\"] = df_copy2[\"Categoria\"].str.replace('BEBÈ', 'DECOLLETÉ')\n",
    "df_copy2[\"Categoria\"] = df_copy2[\"Categoria\"].str.replace('BEBÉ', 'DECOLLETÉ')\n",
    "df_copy2[\"Categoria\"] = df_copy2[\"Categoria\"].str.replace('MOCASSINO', 'MOCASSINI')\n",
    "df_copy2[\"Categoria\"] = df_copy2[\"Categoria\"].str.replace('SANDALO', 'SANDALI')\n",
    "df_copy2[\"Categoria\"] = df_copy2[\"Categoria\"].str.replace('SPUNTATA', 'DECOLLETÉ')\n",
    "df_copy2[\"Categoria\"] = df_copy2[\"Categoria\"].str.replace('TACCO', 'DECOLLETÉ')\n",
    "print(df_copy2['Categoria'].unique())\n"
   ]
  },
  {
   "cell_type": "code",
   "execution_count": 202,
   "metadata": {
    "colab": {
     "base_uri": "https://localhost:8080/"
    },
    "id": "T8ft18lPc3MO",
    "outputId": "85b3395e-f61a-4431-f972-a1baa9124917",
    "tags": []
   },
   "outputs": [
    {
     "data": {
      "text/plain": [
       "array([' SNEAKERS', ' DECOLLETÉ ', ' SNEAKERS NEW', ' SNEAKERS STAR',\n",
       "       ' SLIP ON', ' SNEAKER', ' SNEKERS', ' SLIP ON CATENA',\n",
       "       ' BALLERINE ', ' ESPADRILLAS ', ' ZEPPA', ' ZEPPA LEVANTO',\n",
       "       ' ZEPPA SUPER', ' SNEAKERS JEWELS', ' ZEPPA IN', ' ZOCCOLO',\n",
       "       ' ZOCCOLO CON', ' SLIP ON FIORATO', ' SNEAKER PELLE',\n",
       "       ' SANDALO CON', ' SNEKERS STELLA', ' SANDALO', ' SCARPA CON TACCO',\n",
       "       ' DECOLLETÉ KELLY', ' SNEAKERS CON', ' SNAKE SKIN',\n",
       "       ' SNEAKERS SPORT', ' SNEAKERS MID', ' SNEAKERS INTRECCIATA CON',\n",
       "       ' SABOT CIABATTA', ' ZEPPA JESSICA', ' SNEAKERS 128'], dtype=object)"
      ]
     },
     "execution_count": 202,
     "metadata": {},
     "output_type": "execute_result"
    }
   ],
   "source": [
    "#Stampo le sottotipologie dal percorso:\n",
    "df_copy2['Sottotipologie'] = df_copy2['Percorso'].apply(lambda x: ' '.join(x.split()[:-1]))\n",
    "df_copy2['Sottotipologie'] = df_copy2[\"Sottotipologie\"].str.replace('SCARPE DONNA ESTIVE - ', '')\n",
    "df_copy2['Sottotipologie'] = df_copy2['Sottotipologie'].str.split('-').str[1]\n",
    "df_copy2['Sottotipologie'].unique()\n",
    "#Mi rendo conto che alcune sottotipologie di Kammi corrispondono a categorie di Lumberjack; per uniformità allineo i dati comuni "
   ]
  },
  {
   "cell_type": "code",
   "execution_count": 204,
   "metadata": {
    "colab": {
     "base_uri": "https://localhost:8080/"
    },
    "id": "4k4ldFJFfxIE",
    "outputId": "d3da32ff-d998-401e-af9a-ef47471efba1",
    "tags": []
   },
   "outputs": [
    {
     "data": {
      "text/plain": [
       "Categoria\n",
       "BALLERINE                                          [ BALLERINE ]\n",
       "BEBÉ                                               [ DECOLLETÉ ]\n",
       "DECOLLETÉ                        [ DECOLLETÉ ,  DECOLLETÉ KELLY]\n",
       "ESPADRILLAS                                      [ ESPADRILLAS ]\n",
       "MOCASSINO                                          [ DECOLLETÉ ]\n",
       "SANDALO                    [ SANDALO CON,  SANDALO,  DECOLLETÉ ]\n",
       "SLINGBACK                                          [ DECOLLETÉ ]\n",
       "SLIP ON        [ SLIP ON,  SLIP ON CATENA,  SLIP ON FIORATO, ...\n",
       "SNEAKERS       [ SNEAKERS,  SNEAKERS NEW,  SNEAKERS STAR,  SN...\n",
       "SPUNTATA                                           [ DECOLLETÉ ]\n",
       "TACCO                                              [ DECOLLETÉ ]\n",
       "ZEPPA          [ ZEPPA,  ZEPPA LEVANTO,  ZEPPA SUPER,  ZEPPA ...\n",
       "Name: Sottotipologie, dtype: object"
      ]
     },
     "execution_count": 204,
     "metadata": {},
     "output_type": "execute_result"
    }
   ],
   "source": [
    "#Associazione Categoria e Sottotipologie - vi saranno dati univoci lì dove abbiamo allineato i dati a quelli di Lumberjack\n",
    "df_copy2.groupby(\"Categoria\")['Sottotipologie'].unique()"
   ]
  },
  {
   "cell_type": "code",
   "execution_count": null,
   "metadata": {
    "id": "n4YwGup9ghBd"
   },
   "outputs": [],
   "source": []
  },
  {
   "cell_type": "code",
   "execution_count": 244,
   "metadata": {
    "colab": {
     "base_uri": "https://localhost:8080/"
    },
    "id": "bP4C5uVVw9c2",
    "outputId": "94421d15-02c0-4b95-a30f-c7646e006302",
    "tags": []
   },
   "outputs": [
    {
     "name": "stdout",
     "output_type": "stream",
     "text": [
      "I valori di kammi_estive: \n",
      " Categoria\n",
      "BALLERINE      56.009211\n",
      "BEBÉ           34.950000\n",
      "DECOLLETÉ      55.357952\n",
      "ESPADRILLAS    27.280000\n",
      "MOCASSINI      62.443750\n",
      "SANDALI        36.527778\n",
      "SLINGBACK      55.000000\n",
      "SLIP ON        51.242857\n",
      "SNEAKERS       43.392222\n",
      "ZEPPA          40.551923\n",
      "Name: Prezzo, dtype: float64 \n",
      "\n",
      "I valori di lumberjack: \n",
      " Categoria\n",
      "BEATLES            59.990000\n",
      "MOCASSINI          78.115000\n",
      "SANDALI            46.800811\n",
      "SCARPE CASUAL      70.759231\n",
      "SCARPE DA BARCA    86.517778\n",
      "SNEAKERS           55.229796\n",
      "SPORT              44.490000\n",
      "STIVALI            65.823333\n",
      "STIVALI TECNICI    43.323333\n",
      "Name: Prezzo, dtype: float64 \n",
      "\n"
     ]
    }
   ],
   "source": [
    "#Confronto i due dataframe:\n",
    "print(\"I valori di kammi_estive:\",\"\\n\",df_copy2.groupby('Categoria')[\"Prezzo\"].max(),\"\\n\")\n",
    "\n",
    "print(\"I valori di lumberjack:\",\"\\n\",df_copy.groupby('Categoria')[\"Prezzo\"].max(),\"\\n\")"
   ]
  },
  {
   "cell_type": "code",
   "execution_count": 250,
   "metadata": {
    "colab": {
     "base_uri": "https://localhost:8080/",
     "height": 835
    },
    "id": "v0aVVnabxIAp",
    "outputId": "2aa55d98-2ad9-4e58-aeb9-8efcde9fecbc",
    "tags": []
   },
   "outputs": [
    {
     "data": {
      "image/png": "[encoded data removed]",
      "text/plain": [
       "<Figure size 1600x800 with 2 Axes>"
      ]
     },
     "metadata": {},
     "output_type": "display_data"
    }
   ],
   "source": [
    "#Procedo a fare i grafici concentrandomi sui prezzi medi ( unico grafico utilizzato, volendo il massimo e minimo sostituisco max e min al posto di mean)\n",
    "import pandas as pd\n",
    "import numpy as np\n",
    "import seaborn as sns\n",
    "import matplotlib.pyplot as plt\n",
    "import requests\n",
    "\n",
    "# Calcolo del prezzo medio per ogni categoria in ciascun DataFrame\n",
    "mean_prices_df_copy = df_copy.groupby('Categoria')['Prezzo'].mean().reset_index()\n",
    "mean_prices_df_copy2 = df_copy2.groupby('Categoria')['Prezzo'].mean().reset_index()\n",
    "\n",
    "# Rinomino la colonna Prezzo per distinguere i due DataFrame\n",
    "mean_prices_df_copy.columns = ['Categoria', 'Lumberjack']\n",
    "mean_prices_df_copy2.columns = ['Categoria', 'Kammi']\n",
    "\n",
    "# Unisco i due DataFrame sulle categorie\n",
    "merged_df = pd.merge(mean_prices_df_copy, mean_prices_df_copy2, on='Categoria', how='outer')\n",
    "\n",
    "# Creo della matrice per la Heatmap\n",
    "heatmap_data = merged_df.set_index('Categoria').transpose()\n",
    "\n",
    "# Creazione della Heatmap ( Grafico scelto per avere un confronto a schermo dei 2 dataset di semplice lettura)\n",
    "plt.figure(figsize=(16, 8),facecolor=\"purple\")\n",
    "\n",
    "# Genero i limiti degli assi\n",
    "xlim = plt.gca().get_xlim()\n",
    "ylim = plt.gca().get_ylim()\n",
    "\n",
    "\n",
    "sns.heatmap(heatmap_data, annot=True, cmap='YlGnBu', cbar=True, fmt='.2f')\n",
    "plt.gca().tick_params(axis='x', colors='white')  # colore degli assi x\n",
    "plt.gca().tick_params(axis='y', colors='yellow')  # colore degli assi y\n",
    "plt.title('Heatmap dei Prezzi Medi per Categoria')\n",
    "plt.xlabel('Categoria')\n",
    "plt.ylabel('DataFrame')\n",
    "plt.show()"
   ]
  },
  {
   "cell_type": "code",
   "execution_count": 256,
   "metadata": {
    "tags": []
   },
   "outputs": [
    {
     "data": {
      "image/png": "[encoded data removed]",
      "text/plain": [
       "<Figure size 1600x800 with 2 Axes>"
      ]
     },
     "metadata": {},
     "output_type": "display_data"
    }
   ],
   "source": [
    "import pandas as pd\n",
    "import numpy as np\n",
    "import seaborn as sns\n",
    "import matplotlib.pyplot as plt\n",
    "\n",
    "\n",
    "# Calcolo del prezzo medio per ogni categoria in ciascun DataFrame\n",
    "mean_prices_df_copy = df_copy.groupby('Categoria')['Prezzo'].mean().reset_index()\n",
    "mean_prices_df_copy2 = df_copy2.groupby('Categoria')['Prezzo'].mean().reset_index()\n",
    "\n",
    "# Rinomino la colonna Prezzo per distinguere i due DataFrame\n",
    "mean_prices_df_copy.columns = ['Categoria', 'Lumberjack']\n",
    "mean_prices_df_copy2.columns = ['Categoria', 'Kammi']\n",
    "\n",
    "# Unisco i due DataFrame sulle categorie con un outer join\n",
    "merged_df = pd.merge(mean_prices_df_copy, mean_prices_df_copy2, on='Categoria', how='outer')\n",
    "\n",
    "# Riempie i valori mancanti con NaN (o un altro valore se preferisci)\n",
    "merged_df = merged_df.fillna(value=np.nan)\n",
    "\n",
    "# Limita i valori numerici a due cifre decimali\n",
    "merged_df['Lumberjack'] = merged_df['Lumberjack'].round(2)\n",
    "merged_df['Kammi'] = merged_df['Kammi'].round(2)\n",
    "\n",
    "# Creo della matrice per la Heatmap\n",
    "heatmap_data = merged_df.set_index('Categoria').transpose()\n",
    "\n",
    "# Creazione della Heatmap\n",
    "plt.figure(figsize=(16, 8))\n",
    "\n",
    "# Genera la heatmap con annotazioni e specifica le proprietà delle annotazioni\n",
    "sns.heatmap(heatmap_data, annot=True, cmap='YlGnBu', cbar=True, fmt='.2f', annot_kws={\"size\": 10, \"weight\": \"bold\", \"color\": \"black\"})\n",
    "\n",
    "plt.gca().tick_params(axis='x', colors='black')  # colore degli assi x\n",
    "plt.gca().tick_params(axis='y', colors='black')  # colore degli assi y\n",
    "plt.title('Heatmap dei Prezzi Medi per Categoria')\n",
    "plt.xlabel('Categoria')\n",
    "plt.ylabel('DataFrame')\n",
    "plt.show()\n"
   ]
  }
 ],
 "metadata": {
  "colab": {
   "provenance": [],
   "toc_visible": true
  },
  "kernelspec": {
   "display_name": "Python 3 (ipykernel)",
   "language": "python",
   "name": "python3"
  },
  "language_info": {
   "codemirror_mode": {
    "name": "ipython",
    "version": 3
   },
   "file_extension": ".py",
   "mimetype": "text/x-python",
   "name": "python",
   "nbconvert_exporter": "python",
   "pygments_lexer": "ipython3",
   "version": "3.11.7"
  }
 },
 "nbformat": 4,
 "nbformat_minor": 4
}
